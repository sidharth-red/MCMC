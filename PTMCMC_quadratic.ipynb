{
  "cells": [
    {
      "cell_type": "markdown",
      "metadata": {
        "id": "view-in-github",
        "colab_type": "text"
      },
      "source": [
        "<a href=\"https://colab.research.google.com/github/sidharth-red/MCMC/blob/main/PTMCMC_quadratic.ipynb\" target=\"_parent\"><img src=\"https://colab.research.google.com/assets/colab-badge.svg\" alt=\"Open In Colab\"/></a>"
      ]
    },
    {
      "cell_type": "code",
      "execution_count": null,
      "metadata": {
        "colab": {
          "base_uri": "https://localhost:8080/"
        },
        "id": "yVO_SDdtaRVi",
        "outputId": "c1026a34-c073-4d19-cb65-b19728d55263"
      },
      "outputs": [
        {
          "output_type": "stream",
          "name": "stdout",
          "text": [
            "Collecting corner\n",
            "  Downloading corner-2.2.2-py3-none-any.whl (15 kB)\n",
            "Requirement already satisfied: matplotlib>=2.1 in /usr/local/lib/python3.10/dist-packages (from corner) (3.7.1)\n",
            "Requirement already satisfied: contourpy>=1.0.1 in /usr/local/lib/python3.10/dist-packages (from matplotlib>=2.1->corner) (1.2.1)\n",
            "Requirement already satisfied: cycler>=0.10 in /usr/local/lib/python3.10/dist-packages (from matplotlib>=2.1->corner) (0.12.1)\n",
            "Requirement already satisfied: fonttools>=4.22.0 in /usr/local/lib/python3.10/dist-packages (from matplotlib>=2.1->corner) (4.53.0)\n",
            "Requirement already satisfied: kiwisolver>=1.0.1 in /usr/local/lib/python3.10/dist-packages (from matplotlib>=2.1->corner) (1.4.5)\n",
            "Requirement already satisfied: numpy>=1.20 in /usr/local/lib/python3.10/dist-packages (from matplotlib>=2.1->corner) (1.25.2)\n",
            "Requirement already satisfied: packaging>=20.0 in /usr/local/lib/python3.10/dist-packages (from matplotlib>=2.1->corner) (24.1)\n",
            "Requirement already satisfied: pillow>=6.2.0 in /usr/local/lib/python3.10/dist-packages (from matplotlib>=2.1->corner) (9.4.0)\n",
            "Requirement already satisfied: pyparsing>=2.3.1 in /usr/local/lib/python3.10/dist-packages (from matplotlib>=2.1->corner) (3.1.2)\n",
            "Requirement already satisfied: python-dateutil>=2.7 in /usr/local/lib/python3.10/dist-packages (from matplotlib>=2.1->corner) (2.8.2)\n",
            "Requirement already satisfied: six>=1.5 in /usr/local/lib/python3.10/dist-packages (from python-dateutil>=2.7->matplotlib>=2.1->corner) (1.16.0)\n",
            "Installing collected packages: corner\n",
            "Successfully installed corner-2.2.2\n",
            "Collecting emcee\n",
            "  Downloading emcee-3.1.6-py2.py3-none-any.whl (47 kB)\n",
            "\u001b[2K     \u001b[90m━━━━━━━━━━━━━━━━━━━━━━━━━━━━━━━━━━━━━━━━\u001b[0m \u001b[32m47.4/47.4 kB\u001b[0m \u001b[31m754.6 kB/s\u001b[0m eta \u001b[36m0:00:00\u001b[0m\n",
            "\u001b[?25hRequirement already satisfied: numpy in /usr/local/lib/python3.10/dist-packages (from emcee) (1.25.2)\n",
            "Installing collected packages: emcee\n",
            "Successfully installed emcee-3.1.6\n"
          ]
        }
      ],
      "source": [
        "from pprint import pprint\n",
        "import matplotlib.pyplot as plt\n",
        "import numpy as np\n",
        "import seaborn as sns\n",
        "!pip install -U corner\n",
        "import corner\n",
        "!pip install -U emcee\n",
        "import emcee\n",
        "import tensorflow.compat.v2 as tf\n",
        "tf.enable_v2_behavior()\n",
        "\n",
        "import tensorflow_probability as tfp\n",
        "\n",
        "sns.reset_defaults()\n",
        "sns.set_context(context='talk',font_scale=0.7)\n",
        "plt.rcParams['image.cmap'] = 'viridis'\n",
        "\n",
        "%matplotlib inline\n",
        "\n",
        "tfd = tfp.distributions\n",
        "tfb = tfp.bijectors\n",
        "from tensorflow_probability.python.mcmc import kernel as kernel_base\n",
        "\n",
        "def nparr(array_):\n",
        "  return np.array([float(x) for x in array_])"
      ]
    },
    {
      "cell_type": "code",
      "execution_count": 3,
      "metadata": {
        "id": "CC__aLhTCME9"
      },
      "outputs": [],
      "source": [
        "SEED = 42229\n",
        "num_features = 1 # number of dimensions of indepdendent vars\n",
        "num_parameters = 3 # number of parameters in the model\n",
        "num_data_points = 1000\n",
        "std_err = 5.\n",
        "true_theta = nparr([-10, 20, 30])\n",
        "x_min, x_max = -5., 5.\n",
        "num_burn_in_steps = 5000\n",
        "num_posterior_samples = 10000\n",
        "# num_mcmc_runs = 8\n",
        "initial_state = np.zeros(num_parameters)\n",
        "\n",
        "num_temperatures = 10\n",
        "inverse_temperatures = 0.6**tf.range(num_temperatures, dtype=np.float64)\n",
        "# step_size = 2 / tf.reshape(tf.repeat(inverse_temperatures, repeats=num_parameters), (num_temperatures, num_parameters))\n",
        "step_size = tf.reshape(tf.repeat(np.float64(.1), num_temperatures * num_parameters), (num_temperatures, num_parameters))\n",
        "parameter_labels = ['a', 'b', 'c']\n",
        "\n",
        "assert len(parameter_labels) == num_parameters\n",
        "assert num_posterior_samples > num_burn_in_steps\n",
        "assert initial_state.shape == (num_parameters,)\n",
        "assert true_theta.shape == (num_parameters,)\n",
        "assert x_min < x_max"
      ]
    },
    {
      "cell_type": "code",
      "execution_count": 8,
      "metadata": {
        "id": "ATAblCUPact_",
        "colab": {
          "base_uri": "https://localhost:8080/",
          "height": 455
        },
        "outputId": "62222562-f266-46b0-e2c2-5d18091afe9e"
      },
      "outputs": [
        {
          "output_type": "stream",
          "name": "stdout",
          "text": [
            "(1, 1000)\n"
          ]
        },
        {
          "output_type": "display_data",
          "data": {
            "text/plain": [
              "<Figure size 640x480 with 1 Axes>"
            ],
            "image/png": "[encoded data removed]"
          },
          "metadata": {}
        }
      ],
      "source": [
        "rng = np.random.default_rng(SEED)\n",
        "# Generate some data\n",
        "def gen_points(x, theta):\n",
        "    # Split theta into m and b\n",
        "    a, b, c = tf.split(theta, num_or_size_splits=3, axis=-1)\n",
        "\n",
        "    # # Reshape m and b to ensure they broadcast correctly\n",
        "    # a = tf.reshape(a, (-1,) + (1,) * (len(x.shape) - 1))\n",
        "    # b = tf.reshape(b, (-1,) + (1,) * (len(x.shape) - 1))\n",
        "    # c = tf.reshape(c, (-1,) + (1,) * (len(x.shape) - 1))\n",
        "\n",
        "    # Compute the output\n",
        "    return (a * x**2) + (b*x) +c\n",
        "\n",
        "  # x = tf.pad(x, [[1, 0], [0, 0]], constant_values=1)\n",
        "  # # print(x)\n",
        "  # linop = tf.linalg.LinearOperatorFullMatrix(w[..., np.newaxis])\n",
        "  # # print(linop.adjoint().shape)\n",
        "  # result = linop.matmul(x, adjoint=True)\n",
        "\n",
        "  # return result[0, :]\n",
        "xs = tf.convert_to_tensor(rng.uniform(x_min, x_max, [num_features, num_data_points]))\n",
        "ys = gen_points(xs, true_theta) + rng.normal(0., std_err, size=num_data_points)\n",
        "print(ys.shape)\n",
        "\n",
        "# Visualize the data set\n",
        "plt.scatter(xs, ys, s=100, linewidths=0)\n",
        "xs_grid = np.linspace(x_min, x_max, 100)\n",
        "ys_grid = gen_points(xs_grid, true_theta)\n",
        "plt.plot(xs_grid, ys_grid)\n",
        "plt.show()"
      ]
    },
    {
      "cell_type": "code",
      "execution_count": 11,
      "metadata": {
        "id": "MOV386liah0Q"
      },
      "outputs": [],
      "source": [
        "# Define the joint_log_prob function, and our unnormalized posterior.\n",
        "@tf.function\n",
        "def lnprior(theta):\n",
        "  # print(theta[0])\n",
        "  # y =\n",
        "  # if theta[0] > 0.0:\n",
        "  #   return np.float64(-np.inf)\n",
        "  return np.float64(0.0)\n",
        "  # return tfd.MultivariateNormalDiag(\n",
        "  #   loc=np.zeros(num_parameters),\n",
        "  #   scale_diag=np.ones(num_parameters)).log_prob(theta)\n",
        "  # assuming a perfectly uniform prior with absolutely no restrictions on theta,\n",
        "  # we will always return 0.0. This is a similar convention to emcee.\n",
        "\n",
        "# Create our unnormalized target density by currying x and y from the joint.\n",
        "def unnormalized_posterior(theta):\n",
        "  likelihoods = tfd.Normal(gen_points(xs, theta), std_err) #tfd.Normal(f(xs, theta), std_err)\n",
        "                                                           #creates a normal distribution for\n",
        "                                                           #each predicted value with a mean of\n",
        "                                                           #gen_points(xs, theta) and a standard deviation\n",
        "                                                           #of std_err.'''\n",
        "  return (lnprior(theta) +\n",
        "          tf.reduce_sum(likelihoods.log_prob(ys)))"
      ]
    },
    {
      "cell_type": "code",
      "execution_count": 12,
      "metadata": {
        "id": "5V5QuEaZsrkU"
      },
      "outputs": [],
      "source": [
        "# Create an HMC TransitionKernel\n",
        "# Create an HMC TransitionKernel\n",
        "\n",
        "# def make_kernel_fn(target_log_prob_fn):\n",
        "#   return tfp.mcmc.HamiltonianMonteCarlo(\n",
        "#     target_log_prob_fn=target_log_prob_fn,\n",
        "#     step_size=step_size,\n",
        "#     num_leapfrog_steps=2)\n",
        "\n",
        "def make_kernel_fn(target_log_prob_fn):\n",
        "  kernel = tfp.mcmc.HamiltonianMonteCarlo(\n",
        "    target_log_prob_fn=target_log_prob_fn,\n",
        "    step_size=step_size,\n",
        "    num_leapfrog_steps=2)\n",
        "  return tfp.mcmc.SimpleStepSizeAdaptation(\n",
        "        kernel,\n",
        "        num_adaptation_steps=int(.8 * num_burn_in_steps),\n",
        "        target_accept_prob=np.float64(.3))\n",
        "\n",
        "# def make_kernel_fn(target_log_prob_fn):\n",
        "#   return tfp.mcmc.RandomWalkMetropolis(target_log_prob_fn=target_log_prob_fn)\n",
        "\n",
        "# def make_kernel_fn(target_log_prob_fn):\n",
        "#   return tfp.mcmc.MetropolisAdjustedLangevinAlgorithm()\n",
        "#       target_log_prob_fn=target_log_prob_fn,\n",
        "#       step_size=step_size)"
      ]
    },
    {
      "cell_type": "code",
      "execution_count": 13,
      "metadata": {
        "id": "ywYQy5E-stuj"
      },
      "outputs": [],
      "source": [
        "# We wrap sample_chain in tf.function, telling TF to precompile a reusable\n",
        "# computation graph, which will dramatically improve performance.\n",
        "@tf.function\n",
        "def run_chain(kernel, initial_state, num_posterior_samples=num_posterior_samples, num_burnin_steps=num_burn_in_steps):\n",
        "    return tfp.mcmc.sample_chain(\n",
        "        num_results=num_posterior_samples,\n",
        "        num_burnin_steps=num_burnin_steps,\n",
        "        current_state=initial_state,\n",
        "        kernel=kernel,\n",
        "        trace_fn=lambda current_state, kernel_results: kernel_results)\n"
      ]
    },
    {
      "cell_type": "code",
      "source": [
        "remc = tfp.mcmc.ReplicaExchangeMC(\n",
        "    target_log_prob_fn=unnormalized_posterior,\n",
        "    inverse_temperatures=inverse_temperatures,\n",
        "    make_kernel_fn=make_kernel_fn)"
      ],
      "metadata": {
        "id": "3_2K0OGtQORL"
      },
      "execution_count": 14,
      "outputs": []
    },
    {
      "cell_type": "code",
      "execution_count": null,
      "metadata": {
        "id": "DSDI3pYqsu5m"
      },
      "outputs": [],
      "source": [
        "samples, kernel_results = run_chain(remc, initial_state)\n",
        "print(samples.numpy().shape)\n",
        "print(samples.numpy())\n",
        "# print(\"Acceptance rate:\", kernel_results.is_accepted.numpy().mean())\n",
        "fig = corner.corner(samples.numpy(),\n",
        "                    show_titles=True,\n",
        "                    labels=parameter_labels,\n",
        "                    plot_datapoints=True,\n",
        "                    quantiles=[0.16, 0.5, 0.84],\n",
        "                    truths=true_theta)\n",
        "plt.show()\n",
        "# print(\"Acceptance rate:\", kernel_results.is_accepted.numpy().mean())"
      ]
    },
    {
      "cell_type": "code",
      "execution_count": null,
      "metadata": {
        "id": "mJxik5MQUZpZ"
      },
      "outputs": [],
      "source": [
        "# j = 0.1\n",
        "# for i in range(2, 10):\n",
        "#   while j <= 0.5:\n",
        "#     num_temperatures = i\n",
        "#     inverse_temperatures = np.float64(j)**tf.range(num_temperatures, dtype=np.float64)\n",
        "#     step_size = 2 / tf.reshape(tf.repeat(inverse_temperatures, repeats=num_parameters), (num_temperatures, num_parameters))\n",
        "\n",
        "#     remc = tfp.mcmc.ReplicaExchangeMC(\n",
        "#       target_log_prob_fn=unnormalized_posterior,\n",
        "#       inverse_temperatures=inverse_temperatures,\n",
        "#       make_kernel_fn=make_kernel_fn)\n",
        "\n",
        "#     samples, kernel_results = run_chain(remc, initial_state)\n",
        "#     print(\"num_temperatures = \", num_temperatures)\n",
        "#     print(f\"j = {j}\")\n",
        "#     # print(\"Acceptance rate:\", kernel_results.is_accepted.numpy().mean())\n",
        "#     fig = corner.corner(samples.numpy(),show_titles=True,labels=['m', 'b'],plot_datapoints=True,quantiles=[0.16, 0.5, 0.84], truths=true_theta)\n",
        "#     plt.show()\n",
        "#     j += 0.1"
      ]
    },
    {
      "cell_type": "code",
      "execution_count": null,
      "metadata": {
        "id": "d0i2P7l8U-07"
      },
      "outputs": [],
      "source": []
    }
  ],
  "metadata": {
    "colab": {
      "provenance": [],
      "include_colab_link": true
    },
    "kernelspec": {
      "display_name": "Python 3",
      "name": "python3"
    },
    "language_info": {
      "name": "python"
    }
  },
  "nbformat": 4,
  "nbformat_minor": 0
}